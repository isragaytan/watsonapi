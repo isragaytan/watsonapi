{
 "cells": [
  {
   "cell_type": "code",
   "execution_count": 20,
   "metadata": {
    "collapsed": false
   },
   "outputs": [],
   "source": [
    "\n",
    "import json\n",
    "from googlesearch import search\n",
    "from twitter import *\n"
   ]
  },
  {
   "cell_type": "code",
   "execution_count": 18,
   "metadata": {
    "collapsed": false
   },
   "outputs": [
    {
     "name": "stdout",
     "output_type": "stream",
     "text": [
      "https://es.wikipedia.org/wiki/Puebla\n",
      "https://es.wikipedia.org/wiki/Puebla_de_Zaragoza\n",
      "https://es.wikipedia.org/wiki/Geograf%C3%ADa_de_Puebla\n",
      "https://es.wikipedia.org/wiki/Regiones_de_Puebla\n",
      "https://es.wikipedia.org/wiki/Portal:Puebla\n",
      "http://www.puebla.gob.mx/\n",
      "https://tramitapue.puebla.gob.mx/\n",
      "http://transparencia.puebla.gob.mx/\n",
      "http://tramites.puebla.gob.mx/\n",
      "https://www.eleconomista.com.mx/empresas/Volkswagen-producira-un-nuevo-SUV-en-Puebla-20180314-0038.html\n",
      "https://www.elsoldepuebla.com.mx/policiaca/tirotean-y-matan-a-empleado-del-monte-de-piedad-en-puebla-1240968.html\n",
      "http://www.marca.com/claro-mx/futbol/liga-mx/2018/03/14/5aa83bc6268e3ec6108b4592.html\n",
      "https://www.visitmexico.com/es/destinos-principales/puebla/puebla\n",
      "https://www.mexicodesconocido.com.mx/30-cosas-que-hacer-en-la-ciudad-de-puebla.html\n",
      "https://www.visitmexico.com/es/destinos-principales/puebla\n",
      "http://puebla.travel/\n",
      "http://puebla.travel/es/puebla\n",
      "https://www.mexicodesconocido.com.mx/puebla\n",
      "http://www.pueblacapital.gob.mx/\n",
      "https://www.unotv.com/noticias/estados/puebla/detalle/vehiculo-oficial-atropella-a-mujer-con-su-hija-denunician-redes-725910/\n",
      "https://www.occ.com.mx/empleos-en-puebla\n",
      "https://www.computrabajo.com.mx/empleos-en-puebla-ciudad\n",
      "https://mexico.as.com/resultados/ficha/equipo/puebla/4246/\n",
      "https://www.elsoldepuebla.com.mx/policiaca/se-mata-asaltante-de-diputado-de-tlaxcala-1245437.html\n",
      "https://www.europcar.com.mx/en/car-rental-Puebla.php\n",
      "https://wikitravel.org/en/Puebla\n",
      "http://www.eluniversal.com.mx/destinos/los-5-mejores-restaurantes-de-puebla\n"
     ]
    },
    {
     "ename": "AttributeError",
     "evalue": "'Api' object has no attribute 'search'",
     "output_type": "error",
     "traceback": [
      "\u001b[0;31m---------------------------------------------------------------------------\u001b[0m",
      "\u001b[0;31mAttributeError\u001b[0m                            Traceback (most recent call last)",
      "\u001b[0;32m<ipython-input-18-c2166f2f3a86>\u001b[0m in \u001b[0;36m<module>\u001b[0;34m()\u001b[0m\n\u001b[1;32m     13\u001b[0m \u001b[0;34m\u001b[0m\u001b[0m\n\u001b[1;32m     14\u001b[0m \u001b[0;31m#Search for user that are talking on puebla\u001b[0m\u001b[0;34m\u001b[0m\u001b[0;34m\u001b[0m\u001b[0m\n\u001b[0;32m---> 15\u001b[0;31m \u001b[0mquery\u001b[0m \u001b[0;34m=\u001b[0m \u001b[0mapi\u001b[0m\u001b[0;34m.\u001b[0m\u001b[0msearch\u001b[0m\u001b[0;34m.\u001b[0m\u001b[0mtweets\u001b[0m\u001b[0;34m(\u001b[0m\u001b[0mq\u001b[0m \u001b[0;34m=\u001b[0m \u001b[0;34m\"puebla\"\u001b[0m\u001b[0;34m)\u001b[0m\u001b[0;34m\u001b[0m\u001b[0m\n\u001b[0m\u001b[1;32m     16\u001b[0m \u001b[0;34m\u001b[0m\u001b[0m\n\u001b[1;32m     17\u001b[0m \u001b[0;32mprint\u001b[0m \u001b[0;34m\"Search complete (%.3f seconds)\"\u001b[0m \u001b[0;34m%\u001b[0m \u001b[0;34m(\u001b[0m\u001b[0mquery\u001b[0m\u001b[0;34m[\u001b[0m\u001b[0;34m\"search_metadata\"\u001b[0m\u001b[0;34m]\u001b[0m\u001b[0;34m[\u001b[0m\u001b[0;34m\"completed_in\"\u001b[0m\u001b[0;34m]\u001b[0m\u001b[0;34m)\u001b[0m\u001b[0;34m\u001b[0m\u001b[0m\n",
      "\u001b[0;31mAttributeError\u001b[0m: 'Api' object has no attribute 'search'"
     ]
    }
   ],
   "source": [
    "#Api for twitter\n",
    "api = twitter.Api(consumer_key=[\"HFmZWTCUpNAJl9nB4ESNPcjaz\"],\n",
    "                  consumer_secret=[\"fcUKZ0Lc0TPzOvV17CJQWIEr2hOlDbcowM4C5mZjvMd3kLeaUe\"],\n",
    "                  access_token_key=[\" 18007817-Chuh5h0yvY7CHEIyqUc5QEpQein862lcoSppB1FUU\"],\n",
    "                  access_token_secret=[\" Ig82cvfdXdAqmJTKvUpJdRfSmkdUoainA4tnC85rEBHTk\"])\n",
    "\n",
    "\n",
    "url_list=[]\n",
    "for url in search('puebla', lang='es', num=10, pause=2.0, stop=20):\n",
    "    url_list.append(url)\n",
    "    print(url)\n",
    "    \n",
    "    \n",
    "\n",
    "    "
   ]
  },
  {
   "cell_type": "code",
   "execution_count": 7,
   "metadata": {
    "collapsed": false
   },
   "outputs": [
    {
     "name": "stdout",
     "output_type": "stream",
     "text": [
      "https://ww\n"
     ]
    }
   ],
   "source": [
    "print (url[0:10])"
   ]
  },
  {
   "cell_type": "code",
   "execution_count": 8,
   "metadata": {
    "collapsed": false
   },
   "outputs": [
    {
     "name": "stdout",
     "output_type": "stream",
     "text": [
      "https://www.computrabajo.com.mx/empleos-en-puebla\n"
     ]
    }
   ],
   "source": [
    "print(url)"
   ]
  },
  {
   "cell_type": "code",
   "execution_count": 11,
   "metadata": {
    "collapsed": false
   },
   "outputs": [
    {
     "data": {
      "text/plain": [
       "[u'https://es.wikipedia.org/wiki/Puebla',\n",
       " u'https://es.wikipedia.org/wiki/Puebla_de_Zaragoza',\n",
       " u'https://es.wikipedia.org/wiki/Geograf%C3%ADa_de_Puebla',\n",
       " u'https://es.wikipedia.org/wiki/Regiones_de_Puebla',\n",
       " u'https://es.wikipedia.org/wiki/Portal:Puebla',\n",
       " u'http://www.puebla.gob.mx/',\n",
       " u'https://tramitapue.puebla.gob.mx/',\n",
       " u'http://transparencia.puebla.gob.mx/',\n",
       " u'http://tramites.puebla.gob.mx/',\n",
       " u'https://www.visitmexico.com/es/destinos-principales/puebla/puebla',\n",
       " u'https://aristeguinoticias.com/1303/mexico/gobierno-de-puebla-contrato-linea-telefonica-desde-donde-se-ataco-a-amlo-contrato-ya-vencio-responde/',\n",
       " u'http://www.sinembargo.mx/13-03-2018/3396641',\n",
       " u'https://www.eleconomista.com.mx/empresas/Volkswagen-producira-un-nuevo-SUV-en-Puebla-20180314-0038.html',\n",
       " u'https://www.mexicodesconocido.com.mx/30-cosas-que-hacer-en-la-ciudad-de-puebla.html',\n",
       " u'https://www.visitmexico.com/es/destinos-principales/puebla',\n",
       " u'http://puebla.travel/',\n",
       " u'http://puebla.travel/es/puebla',\n",
       " u'http://www.pueblacapital.gob.mx/',\n",
       " u'https://www.mexicodesconocido.com.mx/puebla',\n",
       " u'https://www.computrabajo.com.mx/empleos-en-puebla-ciudad',\n",
       " u'https://mexico.as.com/resultados/ficha/equipo/puebla/4246/',\n",
       " u'https://www.europcar.com.mx/en/car-rental-Puebla.php',\n",
       " u'http://www.webcamsdemexico.com/webcam-puebla-centro',\n",
       " u'http://www.webcamsdemexico.com/webcam-puebla-panoramica-volcanes',\n",
       " u'http://www.excelsior.com.mx/puebla',\n",
       " u'https://www.occ.com.mx/empleos-en-puebla',\n",
       " u'http://www.eluniversal.com.mx/destinos/que-hacer-en-puebla-con-500-pesos']"
      ]
     },
     "execution_count": 11,
     "metadata": {},
     "output_type": "execute_result"
    }
   ],
   "source": [
    "url_list"
   ]
  },
  {
   "cell_type": "code",
   "execution_count": 12,
   "metadata": {
    "collapsed": false
   },
   "outputs": [
    {
     "data": {
      "text/plain": [
       "u'https://es.wikipedia.org/wiki/Puebla'"
      ]
     },
     "execution_count": 12,
     "metadata": {},
     "output_type": "execute_result"
    }
   ],
   "source": [
    "url_list[0]"
   ]
  },
  {
   "cell_type": "code",
   "execution_count": 21,
   "metadata": {
    "collapsed": false
   },
   "outputs": [
    {
     "ename": "AttributeError",
     "evalue": "'module' object has no attribute 'search'",
     "output_type": "error",
     "traceback": [
      "\u001b[0;31m---------------------------------------------------------------------------\u001b[0m",
      "\u001b[0;31mAttributeError\u001b[0m                            Traceback (most recent call last)",
      "\u001b[0;32m<ipython-input-21-dcce5c5831d6>\u001b[0m in \u001b[0;36m<module>\u001b[0;34m()\u001b[0m\n\u001b[1;32m      1\u001b[0m \u001b[0;31m#Search for user that are talking on puebla\u001b[0m\u001b[0;34m\u001b[0m\u001b[0;34m\u001b[0m\u001b[0m\n\u001b[0;32m----> 2\u001b[0;31m \u001b[0mquery\u001b[0m \u001b[0;34m=\u001b[0m \u001b[0mtwitter\u001b[0m\u001b[0;34m.\u001b[0m\u001b[0msearch\u001b[0m\u001b[0;34m.\u001b[0m\u001b[0mtweets\u001b[0m\u001b[0;34m(\u001b[0m\u001b[0mq\u001b[0m \u001b[0;34m=\u001b[0m \u001b[0;34m\"puebla\"\u001b[0m\u001b[0;34m)\u001b[0m\u001b[0;34m\u001b[0m\u001b[0m\n\u001b[0m\u001b[1;32m      3\u001b[0m \u001b[0;34m\u001b[0m\u001b[0m\n\u001b[1;32m      4\u001b[0m \u001b[0;32mprint\u001b[0m \u001b[0;34m\"Search complete (%.3f seconds)\"\u001b[0m \u001b[0;34m%\u001b[0m \u001b[0;34m(\u001b[0m\u001b[0mquery\u001b[0m\u001b[0;34m[\u001b[0m\u001b[0;34m\"search_metadata\"\u001b[0m\u001b[0;34m]\u001b[0m\u001b[0;34m[\u001b[0m\u001b[0;34m\"completed_in\"\u001b[0m\u001b[0;34m]\u001b[0m\u001b[0;34m)\u001b[0m\u001b[0;34m\u001b[0m\u001b[0m\n",
      "\u001b[0;31mAttributeError\u001b[0m: 'module' object has no attribute 'search'"
     ]
    }
   ],
   "source": [
    "#Search for user that are talking on puebla\n",
    "query = twitter.search.tweets(q = \"puebla\")\n",
    "\n",
    "print \"Search complete (%.3f seconds)\" % (query[\"search_metadata\"][\"completed_in\"])\n"
   ]
  },
  {
   "cell_type": "code",
   "execution_count": null,
   "metadata": {
    "collapsed": true
   },
   "outputs": [],
   "source": []
  }
 ],
 "metadata": {
  "kernelspec": {
   "display_name": "Python 2",
   "language": "python",
   "name": "python2"
  },
  "language_info": {
   "codemirror_mode": {
    "name": "ipython",
    "version": 2
   },
   "file_extension": ".py",
   "mimetype": "text/x-python",
   "name": "python",
   "nbconvert_exporter": "python",
   "pygments_lexer": "ipython2",
   "version": "2.7.13"
  }
 },
 "nbformat": 4,
 "nbformat_minor": 2
}
